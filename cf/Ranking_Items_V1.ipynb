{
 "cells": [
  {
   "cell_type": "markdown",
   "id": "3d14246f",
   "metadata": {},
   "source": [
    "# Ranking Items from Baskets"
   ]
  },
  {
   "cell_type": "code",
   "execution_count": 1,
   "id": "1a7788b9",
   "metadata": {},
   "outputs": [],
   "source": [
    "import numpy as np\n",
    "import math\n",
    "import networkx as nx\n",
    "import matplotlib.pyplot as plt \n",
    "from itertools import combinations"
   ]
  },
  {
   "cell_type": "markdown",
   "id": "aa26f9b1",
   "metadata": {},
   "source": [
    "## Baskets"
   ]
  },
  {
   "cell_type": "code",
   "execution_count": 2,
   "id": "089ddf62",
   "metadata": {},
   "outputs": [],
   "source": [
    "baskets = [\n",
    "        [\"Milk\", \"Bread\", \"Eggs\"],\n",
    "        [\"Bread\", \"Butter\", \"Jam\"],\n",
    "        [\"Milk\", \"Cereal\", \"Eggs\"],\n",
    "        [\"Bread\", \"Jam\"]\n",
    "    ]"
   ]
  },
  {
   "cell_type": "code",
   "execution_count": 3,
   "id": "244e5072",
   "metadata": {},
   "outputs": [
    {
     "name": "stdout",
     "output_type": "stream",
     "text": [
      "Baskets for Custome:\n",
      "Basket 1: Milk, Bread, Eggs\n",
      "Basket 2: Bread, Butter, Jam\n",
      "Basket 3: Milk, Cereal, Eggs\n",
      "Basket 4: Bread, Jam\n",
      "------------------------------\n"
     ]
    }
   ],
   "source": [
    "print(\"Baskets for Custome:\")\n",
    "for i, basket in enumerate(baskets):\n",
    "    print(f\"Basket {i+1}: {', '.join(basket)}\")\n",
    "print(\"-\" * 30)"
   ]
  },
  {
   "cell_type": "markdown",
   "id": "bb09ceda",
   "metadata": {},
   "source": [
    "## Creating the Graph"
   ]
  },
  {
   "cell_type": "code",
   "execution_count": 4,
   "id": "937278e6",
   "metadata": {},
   "outputs": [],
   "source": [
    "graph = nx.Graph() # Undirected graph since co-occurrence is mutual\n",
    "\n",
    "all_items = set()\n",
    "for basket in baskets:\n",
    "    # Add items as nodes\n",
    "    for item in basket:\n",
    "        all_items.add(item)\n",
    "        if not graph.has_node(item):\n",
    "            graph.add_node(item)\n",
    "            \n",
    "# Add edges for co-occurring items within the basket\n",
    "        # For a basket [A, B, C], create edges (A,B), (A,C), (B,C)\n",
    "        for item1, item2 in combinations(basket, 2):\n",
    "            if graph.has_edge(item1, item2):\n",
    "                # Increase weight if items co-occur multiple times (optional refinement)\n",
    "                # For this example, we'll just ensure the edge exists.\n",
    "                graph[item1][item2]['weight'] += 1\n",
    "                pass\n",
    "            else:\n",
    "                graph.add_edge(item1, item2)\n",
    "                graph[item1][item2]['weight'] = 1 "
   ]
  },
  {
   "cell_type": "markdown",
   "id": "6f8199ad",
   "metadata": {},
   "source": [
    "## Check the nodes and edges"
   ]
  },
  {
   "cell_type": "code",
   "execution_count": 5,
   "id": "d6fbae7a",
   "metadata": {},
   "outputs": [
    {
     "data": {
      "text/plain": [
       "NodeView(('Milk', 'Bread', 'Eggs', 'Butter', 'Jam', 'Cereal'))"
      ]
     },
     "execution_count": 5,
     "metadata": {},
     "output_type": "execute_result"
    }
   ],
   "source": [
    "graph.nodes"
   ]
  },
  {
   "cell_type": "code",
   "execution_count": 6,
   "id": "6bb59a39",
   "metadata": {},
   "outputs": [
    {
     "data": {
      "text/plain": [
       "EdgeView([('Milk', 'Bread'), ('Milk', 'Eggs'), ('Milk', 'Cereal'), ('Bread', 'Eggs'), ('Bread', 'Butter'), ('Bread', 'Jam'), ('Eggs', 'Cereal'), ('Butter', 'Jam')])"
      ]
     },
     "execution_count": 6,
     "metadata": {},
     "output_type": "execute_result"
    }
   ],
   "source": [
    "graph.edges"
   ]
  },
  {
   "cell_type": "markdown",
   "id": "fe88adb0",
   "metadata": {},
   "source": [
    "## Calculate Page Rank"
   ]
  },
  {
   "cell_type": "code",
   "execution_count": 7,
   "id": "0443d7fb",
   "metadata": {},
   "outputs": [],
   "source": [
    "pagerank_scores = nx.pagerank(graph)"
   ]
  },
  {
   "cell_type": "code",
   "execution_count": 8,
   "id": "3a3a4a37",
   "metadata": {},
   "outputs": [
    {
     "data": {
      "text/plain": [
       "{'Milk': 0.1987111923787704,\n",
       " 'Bread': 0.23466459855782854,\n",
       " 'Eggs': 0.1987111923787704,\n",
       " 'Butter': 0.11384074521163626,\n",
       " 'Jam': 0.14462047746310927,\n",
       " 'Cereal': 0.10945179400988483}"
      ]
     },
     "execution_count": 8,
     "metadata": {},
     "output_type": "execute_result"
    }
   ],
   "source": [
    "pagerank_scores"
   ]
  },
  {
   "cell_type": "markdown",
   "id": "8a21cc33",
   "metadata": {},
   "source": [
    "## Sort and Print the Ranks"
   ]
  },
  {
   "cell_type": "code",
   "execution_count": 9,
   "id": "2bdb679b",
   "metadata": {},
   "outputs": [],
   "source": [
    "sorted_pagerank = dict(sorted(pagerank_scores.items(), key=lambda item: item[1], reverse=True))"
   ]
  },
  {
   "cell_type": "code",
   "execution_count": 10,
   "id": "eb8a293a",
   "metadata": {},
   "outputs": [
    {
     "data": {
      "text/plain": [
       "{'Bread': 0.23466459855782854,\n",
       " 'Milk': 0.1987111923787704,\n",
       " 'Eggs': 0.1987111923787704,\n",
       " 'Jam': 0.14462047746310927,\n",
       " 'Butter': 0.11384074521163626,\n",
       " 'Cereal': 0.10945179400988483}"
      ]
     },
     "execution_count": 10,
     "metadata": {},
     "output_type": "execute_result"
    }
   ],
   "source": [
    "sorted_pagerank"
   ]
  },
  {
   "cell_type": "code",
   "execution_count": 11,
   "id": "ad326774",
   "metadata": {},
   "outputs": [
    {
     "name": "stdout",
     "output_type": "stream",
     "text": [
      "\n",
      "Item Ranking based on PageRank (Higher score is more 'central'):\n",
      "Bread: 0.2347\n",
      "Milk: 0.1987\n",
      "Eggs: 0.1987\n",
      "Jam: 0.1446\n",
      "Butter: 0.1138\n",
      "Cereal: 0.1095\n"
     ]
    }
   ],
   "source": [
    "print(\"\\nItem Ranking based on PageRank (Higher score is more 'central'):\")\n",
    "if sorted_pagerank:\n",
    "    for item, score in sorted_pagerank.items():\n",
    "        print(f\"{item}: {score:.4f}\")"
   ]
  },
  {
   "cell_type": "markdown",
   "id": "7598fab2",
   "metadata": {},
   "source": [
    "### Visualize the Graph"
   ]
  },
  {
   "cell_type": "code",
   "execution_count": 12,
   "id": "ae9c6d70",
   "metadata": {},
   "outputs": [],
   "source": [
    "def visualize_graph(graph, pagerank_scores, title=\"Item Co-occurrence Graph\"):\n",
    "    \"\"\"\n",
    "    Visualizes the item graph with node sizes proportional to PageRank scores.\n",
    "    (Optional function, requires matplotlib)\n",
    "    \"\"\"\n",
    "    if not graph.nodes() or not pagerank_scores:\n",
    "        print(\"Cannot visualize empty graph or scores.\")\n",
    "        return\n",
    "\n",
    "    plt.figure(figsize=(10, 8))\n",
    "    pos = nx.spring_layout(graph, k=0.5, iterations=50) # Layout algorithm\n",
    "\n",
    "    # Node sizes based on PageRank (scaled for visibility)\n",
    "    node_sizes = [np.log(score) for score in pagerank_scores.values()]\n",
    "    # Ensure all nodes in pagerank_scores are in the graph for consistent ordering\n",
    "    ordered_scores_for_sizing = [pagerank_scores.get(node, 0) * 10000 for node in graph.nodes()]\n",
    "\n",
    "\n",
    "    nx.draw_networkx_nodes(graph, pos, node_size=ordered_scores_for_sizing, node_color='skyblue', alpha=0.8)\n",
    "    nx.draw_networkx_edges(graph, pos, alpha=0.3, edge_color='gray')\n",
    "    nx.draw_networkx_labels(graph, pos, font_size=10)\n",
    "\n",
    "    plt.title(title)\n",
    "    plt.axis('off') # Turn off the axis\n",
    "    plt.tight_layout()\n",
    "    plt.show()"
   ]
  },
  {
   "cell_type": "code",
   "execution_count": 13,
   "id": "81019713",
   "metadata": {},
   "outputs": [
    {
     "data": {
      "image/png": "[encoded data removed]",
      "text/plain": [
       "<Figure size 1000x800 with 1 Axes>"
      ]
     },
     "metadata": {},
     "output_type": "display_data"
    }
   ],
   "source": [
    "if graph.nodes() and sorted_pagerank:\n",
    "        # Re-fetch scores for visualization if they were modified (e.g. by fallback)\n",
    "        current_scores_for_viz = {node: sorted_pagerank.get(node, 0) for node in graph.nodes()}\n",
    "        try:\n",
    "            visualize_graph(graph, current_scores_for_viz, title=\"Item Co-occurrence Graph\")\n",
    "        except Exception as e:\n",
    "            print(f\"\\nCould not visualize graph. Matplotlib might be missing or there was an error: {e}\")\n",
    "            print(\"To install matplotlib: pip install matplotlib\")"
   ]
  },
  {
   "cell_type": "code",
   "execution_count": null,
   "id": "2efa4334",
   "metadata": {},
   "outputs": [],
   "source": []
  }
 ],
 "metadata": {
  "kernelspec": {
   "display_name": "Python 3 (ipykernel)",
   "language": "python",
   "name": "python3"
  },
  "language_info": {
   "codemirror_mode": {
    "name": "ipython",
    "version": 3
   },
   "file_extension": ".py",
   "mimetype": "text/x-python",
   "name": "python",
   "nbconvert_exporter": "python",
   "pygments_lexer": "ipython3",
   "version": "3.10.9"
  }
 },
 "nbformat": 4,
 "nbformat_minor": 5
}
